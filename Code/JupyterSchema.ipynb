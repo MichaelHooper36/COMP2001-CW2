{
 "cells": [
  {
   "cell_type": "code",
   "execution_count": 2,
   "metadata": {},
   "outputs": [],
   "source": [
    "import pyodbc"
   ]
  },
  {
   "cell_type": "code",
   "execution_count": 3,
   "metadata": {},
   "outputs": [],
   "source": [
    "server = 'dist-6-505.uopnet.plymouth.ac.uk'\n",
    "database = 'COMP2001_MHooper'\n",
    "username = 'MHooper'\n",
    "password = 'PlymLogin72'\n",
    "driver = '{ODBC Driver 17 for SQL Server}'\n",
    "\n",
    "conn_str = (\n",
    "    f'DRIVER={driver};'\n",
    "    f'SERVER={server};'\n",
    "    f'DATABASE={database};'\n",
    "    f'UID={username};'\n",
    "    f'PWD={password};'\n",
    "    'Encrypt=Yes;'\n",
    "    'TrustServerCertificate=Yes;'\n",
    "    'Connection Timeout=30;'\n",
    "    'Trusted_Connection=No'\n",
    ")\n",
    "conn = pyodbc.connect(conn_str)\n",
    "cursor = conn.cursor()"
   ]
  },
  {
   "cell_type": "code",
   "execution_count": 9,
   "metadata": {},
   "outputs": [
    {
     "ename": "ProgrammingError",
     "evalue": "('42S01', \"[42S01] [Microsoft][ODBC Driver 17 for SQL Server][SQL Server]There is already an object named 'CW2' in the database. (2714) (SQLExecDirectW); [42S01] [Microsoft][ODBC Driver 17 for SQL Server][SQL Server]CREATE SCHEMA failed due to previous errors. (2759)\")",
     "output_type": "error",
     "traceback": [
      "\u001b[1;31m---------------------------------------------------------------------------\u001b[0m",
      "\u001b[1;31mProgrammingError\u001b[0m                          Traceback (most recent call last)",
      "Cell \u001b[1;32mIn[9], line 2\u001b[0m\n\u001b[0;32m      1\u001b[0m create_schema \u001b[38;5;241m=\u001b[39m \u001b[38;5;124mf\u001b[39m\u001b[38;5;124m\"\u001b[39m\u001b[38;5;124mCREATE SCHEMA CW2\u001b[39m\u001b[38;5;124m\"\u001b[39m\n\u001b[1;32m----> 2\u001b[0m \u001b[43mcursor\u001b[49m\u001b[38;5;241;43m.\u001b[39;49m\u001b[43mexecute\u001b[49m\u001b[43m(\u001b[49m\u001b[43mcreate_schema\u001b[49m\u001b[43m)\u001b[49m\n\u001b[0;32m      3\u001b[0m cursor\u001b[38;5;241m.\u001b[39mcommit()\n",
      "\u001b[1;31mProgrammingError\u001b[0m: ('42S01', \"[42S01] [Microsoft][ODBC Driver 17 for SQL Server][SQL Server]There is already an object named 'CW2' in the database. (2714) (SQLExecDirectW); [42S01] [Microsoft][ODBC Driver 17 for SQL Server][SQL Server]CREATE SCHEMA failed due to previous errors. (2759)\")"
     ]
    }
   ],
   "source": [
    "create_schema = f\"CREATE SCHEMA CW2\"\n",
    "cursor.execute(create_schema)\n",
    "cursor.commit()"
   ]
  },
  {
   "cell_type": "code",
   "execution_count": 10,
   "metadata": {},
   "outputs": [
    {
     "ename": "ProgrammingError",
     "evalue": "('42S01', \"[42S01] [Microsoft][ODBC Driver 17 for SQL Server][SQL Server]There is already an object named 'users' in the database. (2714) (SQLExecDirectW)\")",
     "output_type": "error",
     "traceback": [
      "\u001b[1;31m---------------------------------------------------------------------------\u001b[0m",
      "\u001b[1;31mProgrammingError\u001b[0m                          Traceback (most recent call last)",
      "Cell \u001b[1;32mIn[10], line 13\u001b[0m\n\u001b[0;32m      1\u001b[0m columns \u001b[38;5;241m=\u001b[39m [\n\u001b[0;32m      2\u001b[0m     \u001b[38;5;124m'\u001b[39m\u001b[38;5;124muser_id INT IDENTITY(1,1) PRIMARY KEY\u001b[39m\u001b[38;5;124m'\u001b[39m,\n\u001b[0;32m      3\u001b[0m     \u001b[38;5;124m'\u001b[39m\u001b[38;5;124musername VARCHAR(63) UNIQUE\u001b[39m\u001b[38;5;124m'\u001b[39m,\n\u001b[1;32m   (...)\u001b[0m\n\u001b[0;32m      9\u001b[0m     \u001b[38;5;124m\"\u001b[39m\u001b[38;5;124mCHECK (email LIKE \u001b[39m\u001b[38;5;124m'\u001b[39m\u001b[38;5;124m%\u001b[39m\u001b[38;5;124m_@_\u001b[39m\u001b[38;5;124m%\u001b[39m\u001b[38;5;124m.__\u001b[39m\u001b[38;5;124m%\u001b[39m\u001b[38;5;124m'\u001b[39m\u001b[38;5;124m)\u001b[39m\u001b[38;5;124m\"\u001b[39m\n\u001b[0;32m     10\u001b[0m ]\n\u001b[0;32m     12\u001b[0m create_table_cmd \u001b[38;5;241m=\u001b[39m \u001b[38;5;124mf\u001b[39m\u001b[38;5;124m\"\u001b[39m\u001b[38;5;124mCREATE TABLE CW2.users (\u001b[39m\u001b[38;5;132;01m{\u001b[39;00m\u001b[38;5;124m'\u001b[39m\u001b[38;5;124m,\u001b[39m\u001b[38;5;124m'\u001b[39m\u001b[38;5;241m.\u001b[39mjoin(columns)\u001b[38;5;132;01m}\u001b[39;00m\u001b[38;5;124m)\u001b[39m\u001b[38;5;124m\"\u001b[39m\n\u001b[1;32m---> 13\u001b[0m \u001b[43mcursor\u001b[49m\u001b[38;5;241;43m.\u001b[39;49m\u001b[43mexecute\u001b[49m\u001b[43m(\u001b[49m\u001b[43mcreate_table_cmd\u001b[49m\u001b[43m)\u001b[49m\n\u001b[0;32m     14\u001b[0m cursor\u001b[38;5;241m.\u001b[39mcommit ()\n",
      "\u001b[1;31mProgrammingError\u001b[0m: ('42S01', \"[42S01] [Microsoft][ODBC Driver 17 for SQL Server][SQL Server]There is already an object named 'users' in the database. (2714) (SQLExecDirectW)\")"
     ]
    }
   ],
   "source": [
    "columns = [\n",
    "    'user_id INT IDENTITY(1,1) PRIMARY KEY',\n",
    "    'username VARCHAR(63) UNIQUE',\n",
    "    'email VARCHAR(63) UNIQUE',\n",
    "    'password VARCHAR(63)',\n",
    "    'role VARCHAR(5)',\n",
    "\n",
    "    \"CHECK (lower(role) = 'user' OR lower(role) = 'admin')\",\n",
    "    \"CHECK (email LIKE '%_@_%.__%')\"\n",
    "]\n",
    "\n",
    "create_table_cmd = f\"CREATE TABLE CW2.users ({','.join(columns)})\"\n",
    "cursor.execute(create_table_cmd)\n",
    "cursor.commit ()"
   ]
  },
  {
   "cell_type": "code",
   "execution_count": 6,
   "metadata": {},
   "outputs": [],
   "source": [
    "users = [\n",
    "    \"'Grace Hopper', 'grace@plymouth.ac.uk', 'ISAD123!', 'user'\",\n",
    "    \"'Tim Berners-Lee', 'tim@plymouth.ac.uk', 'COMP2001!', 'user'\",\n",
    "    \"'Ada Lovelace', 'ada@plymouth.ac.uk', 'insecurePassword', 'admin'\",\n",
    "]\n",
    "\n",
    "for user_data in users:\n",
    "    insert_cmd = f\"INSERT INTO CW2.users VALUES ({user_data})\"\n",
    "    cursor.execute(insert_cmd)\n",
    "\n",
    "cursor.commit()"
   ]
  },
  {
   "cell_type": "code",
   "execution_count": 4,
   "metadata": {},
   "outputs": [],
   "source": [
    "drop_table_cmd = f\"DROP TABLE CW2.users\"\n",
    "cursor.execute(drop_table_cmd)\n",
    "cursor.commit()"
   ]
  },
  {
   "cell_type": "code",
   "execution_count": 11,
   "metadata": {},
   "outputs": [
    {
     "name": "stdout",
     "output_type": "stream",
     "text": [
      "(1, 'Grace Hopper', 'grace@plymouth.ac.uk', 'ISAD123!', 'user')\n",
      "(2, 'Tim Berners-Lee', 'tim@plymouth.ac.uk', 'COMP2001!', 'user')\n",
      "(3, 'Ada Lovelace', 'ada@plymouth.ac.uk', 'insecurePassword', 'admin')\n"
     ]
    }
   ],
   "source": [
    "cursor.execute(\"SELECT * FROM CW2.users\")\n",
    "\n",
    "users = cursor.fetchall()\n",
    "for user in users:\n",
    "    print (user)"
   ]
  },
  {
   "cell_type": "code",
   "execution_count": null,
   "metadata": {},
   "outputs": [],
   "source": [
    "columns = [\n",
    "    'location_id INT IDENTITY(1,1) PRIMARY KEY',\n",
    "    'longitude FLOAT',\n",
    "    'latitude FLOAT',\n",
    "    'description VARCHAR(500)',\n",
    "\n",
    "    'CHECK (longitude BETWEEN -180 AND 180)',\n",
    "    'CHECK (latitude BETWEEN -90 AND 90)',\n",
    "    'CHECK (LEN(description) > 10)'\n",
    "]\n",
    "\n",
    "create_table_cmd = f\"CREATE TABLE CW2.location_point ({','.join(columns)})\"\n",
    "cursor.execute(create_table_cmd)\n",
    "cursor.commit()"
   ]
  },
  {
   "cell_type": "code",
   "execution_count": 23,
   "metadata": {},
   "outputs": [],
   "source": [
    "locations = [\n",
    "    \"'0.0', '0.0', 'This is Null Island'\",\n",
    "    \"'-0.12', '51.51', 'This is London'\",\n",
    "    \"'151.2153', '-33.8568', 'This is the Sydney Opera House'\"\n",
    "]\n",
    "\n",
    "for location_data in locations:\n",
    "    insert_cmd = f\"INSERT INTO CW2.location_point VALUES ({location_data})\"\n",
    "    cursor.execute(insert_cmd)\n",
    "\n",
    "cursor.commit()"
   ]
  },
  {
   "cell_type": "code",
   "execution_count": 8,
   "metadata": {},
   "outputs": [],
   "source": [
    "drop_table_cmd = f\"DROP TABLE CW2.location_point\"\n",
    "cursor.execute(drop_table_cmd)\n",
    "cursor.commit()"
   ]
  },
  {
   "cell_type": "code",
   "execution_count": 12,
   "metadata": {},
   "outputs": [
    {
     "name": "stdout",
     "output_type": "stream",
     "text": [
      "(1, 0.0, 0.0, 'This is Null Island')\n",
      "(2, -0.12, 51.51, 'This is London')\n",
      "(3, 151.2153, -33.8568, 'This is the Sydney Opera House')\n"
     ]
    }
   ],
   "source": [
    "cursor.execute(\"SELECT * FROM CW2.location_point\")\n",
    "\n",
    "locations = cursor.fetchall()\n",
    "for location in locations:\n",
    "    print (location)"
   ]
  },
  {
   "cell_type": "code",
   "execution_count": 25,
   "metadata": {},
   "outputs": [],
   "source": [
    "columns = [\n",
    "    'trail_feature_id INT IDENTITY(1,1) PRIMARY KEY',\n",
    "    'trail_feature VARCHAR(31) UNIQUE'\n",
    "]\n",
    "\n",
    "create_table_cmd = f\"CREATE TABLE CW2.features ({','.join(columns)})\"\n",
    "cursor.execute(create_table_cmd)\n",
    "cursor.commit()"
   ]
  },
  {
   "cell_type": "code",
   "execution_count": 26,
   "metadata": {},
   "outputs": [],
   "source": [
    "features = [\n",
    "    \"'Bird watching'\",\n",
    "    \"'Hiking'\",\n",
    "    \"'Running'\"\n",
    "]\n",
    "\n",
    "for feature_data in features:\n",
    "    insert_cmd = f\"INSERT INTO CW2.features VALUES ({feature_data})\"\n",
    "    cursor.execute(insert_cmd)\n",
    "    \n",
    "cursor.commit()"
   ]
  },
  {
   "cell_type": "code",
   "execution_count": 13,
   "metadata": {},
   "outputs": [
    {
     "name": "stdout",
     "output_type": "stream",
     "text": [
      "(1, 'Bird watching')\n",
      "(2, 'Hiking')\n",
      "(3, 'Running')\n"
     ]
    }
   ],
   "source": [
    "cursor.execute(\"SELECT * FROM CW2.features\")\n",
    "\n",
    "features = cursor.fetchall()\n",
    "for feature in features:\n",
    "    print (feature)"
   ]
  },
  {
   "cell_type": "code",
   "execution_count": 15,
   "metadata": {},
   "outputs": [
    {
     "data": {
      "text/plain": [
       "<function Cursor.commit>"
      ]
     },
     "execution_count": 15,
     "metadata": {},
     "output_type": "execute_result"
    }
   ],
   "source": [
    "columns = [\n",
    "    'trail_id INT IDENTITY(1,1) PRIMARY KEY',\n",
    "    'trail_name VARCHAR(127)',\n",
    "    'trail_summary VARCHAR(500)',\n",
    "    'trail_description VARCHAR(500)',\n",
    "    'difficulty VARCHAR(8)',\n",
    "    'location VARCHAR(63)',\n",
    "    'length FLOAT',\n",
    "    'elevation_gain INT',\n",
    "    'route_type VARCHAR(15)',\n",
    "\n",
    "    'owner_id INT',\n",
    "    'location_point_1 INT',\n",
    "    'location_point_2 INT',\n",
    "    'location_point_3 INT',\n",
    "    'location_point_4 INT',\n",
    "    'location_point_5 INT',\n",
    "\n",
    "    \"CHECK (difficulty = ('easy') OR difficulty = ('moderate') OR difficulty = ('hard'))\",\n",
    "    'CHECK (length >= 0 AND length = ROUND(length, 2))',\n",
    "    'CHECK (elevation_gain >=0)',\n",
    "    \"CHECK (route_type = ('loop') OR route_type = ('point to point') OR route_type = ('out and back'))\",\n",
    "\n",
    "    'CONSTRAINT fk_owner_id FOREIGN KEY (owner_id) REFERENCES CW2.users(user_id)',\n",
    "    'CONSTRAINT fk_location_1 FOREIGN KEY (location_point_1) REFERENCES CW2.location_point(location_id)',\n",
    "    'CONSTRAINT fk_location_2 FOREIGN KEY (location_point_2) REFERENCES CW2.location_point(location_id)',\n",
    "    'CONSTRAINT fk_location_3 FOREIGN KEY (location_point_3) REFERENCES CW2.location_point(location_id)',\n",
    "    'CONSTRAINT fk_location_4 FOREIGN KEY (location_point_4) REFERENCES CW2.location_point(location_id)',\n",
    "    'CONSTRAINT fk_location_5 FOREIGN KEY (location_point_5) REFERENCES CW2.location_point(location_id)'\n",
    "]\n",
    "\n",
    "create_table_cmd = f\"CREATE TABLE CW2.trails ({','.join(columns)})\"\n",
    "cursor.execute(create_table_cmd)\n",
    "cursor.commit"
   ]
  },
  {
   "cell_type": "code",
   "execution_count": 16,
   "metadata": {},
   "outputs": [
    {
     "data": {
      "text/plain": [
       "<function Cursor.commit>"
      ]
     },
     "execution_count": 16,
     "metadata": {},
     "output_type": "execute_result"
    }
   ],
   "source": [
    "trails = [\n",
    "    \"'Plymbridge Circular', 'discover this loop...', 'this is a gentle...', 'easy', 'Plymouth, Devon, England', '5.0', '147', 'loop', '3', '1', '2', '1', '2', '3'\",\n",
    "    \"'Crazywell Pool', 'enjoy this 6.3km...', 'this trail starts near...', 'moderate', 'Dartmoor, Devon, England', '6.3', '177', 'loop', '3', '3', '2', '3', '2', '1'\",\n",
    "    \"'Crater Cove Lookout', 'try this 3.1km...', 'this is a short but...', 'moderate', 'Sydney Harbour, New South Wales, Australia', '3.1', '93', 'out and back', '3', '1', '2', '3', '2', '1'\"\n",
    "]\n",
    "\n",
    "for trail_data in trails:\n",
    "    insert_cmd = f\"INSERT INTO CW2.trails VALUES ({trail_data})\"\n",
    "    cursor.execute(insert_cmd)\n",
    "\n",
    "cursor.commit"
   ]
  },
  {
   "cell_type": "code",
   "execution_count": 22,
   "metadata": {},
   "outputs": [
    {
     "name": "stdout",
     "output_type": "stream",
     "text": [
      "(1, 'Plymbridge Circular', 'discover this loop...', 'this is a gentle...', 'easy', 'Plymouth, Devon, England', 5.0, 147, 'loop', 3, 1, 2, 1, 2, 3)\n",
      "(2, 'Crazywell Pool', 'enjoy this 6.3km...', 'this trail starts near...', 'moderate', 'Dartmoor, Devon, England', 6.3, 177, 'loop', 3, 3, 2, 3, 2, 1)\n",
      "(3, 'Crater Cove Lookout', 'try this 3.1km...', 'this is a short but...', 'moderate', 'Sydney Harbour, New South Wales, Australia', 3.1, 93, 'out and back', 3, 1, 2, 3, 2, 1)\n"
     ]
    }
   ],
   "source": [
    "cursor.execute(\"SELECT * FROM CW2.trails\")\n",
    "\n",
    "trails = cursor.fetchall()\n",
    "for trail in trails:\n",
    "    print (trail)"
   ]
  },
  {
   "cell_type": "code",
   "execution_count": null,
   "metadata": {},
   "outputs": [
    {
     "ename": "ProgrammingError",
     "evalue": "('42S02', \"[42S02] [Microsoft][ODBC Driver 17 for SQL Server][SQL Server]Cannot drop the table 'CW2.trails', because it does not exist or you do not have permission. (3701) (SQLExecDirectW)\")",
     "output_type": "error",
     "traceback": [
      "\u001b[1;31m---------------------------------------------------------------------------\u001b[0m",
      "\u001b[1;31mProgrammingError\u001b[0m                          Traceback (most recent call last)",
      "Cell \u001b[1;32mIn[22], line 2\u001b[0m\n\u001b[0;32m      1\u001b[0m drop_table_cmd \u001b[38;5;241m=\u001b[39m \u001b[38;5;124mF\u001b[39m\u001b[38;5;124m\"\u001b[39m\u001b[38;5;124mDROP TABLE CW2.trails\u001b[39m\u001b[38;5;124m\"\u001b[39m\n\u001b[1;32m----> 2\u001b[0m \u001b[43mcursor\u001b[49m\u001b[38;5;241;43m.\u001b[39;49m\u001b[43mexecute\u001b[49m\u001b[43m(\u001b[49m\u001b[43mdrop_table_cmd\u001b[49m\u001b[43m)\u001b[49m\n\u001b[0;32m      3\u001b[0m cursor\u001b[38;5;241m.\u001b[39mcommit\n",
      "\u001b[1;31mProgrammingError\u001b[0m: ('42S02', \"[42S02] [Microsoft][ODBC Driver 17 for SQL Server][SQL Server]Cannot drop the table 'CW2.trails', because it does not exist or you do not have permission. (3701) (SQLExecDirectW)\")"
     ]
    }
   ],
   "source": [
    "drop_table_cmd = f\"DROP TABLE CW2.trails\"\n",
    "cursor.execute(drop_table_cmd)\n",
    "cursor.commit"
   ]
  },
  {
   "cell_type": "code",
   "execution_count": 19,
   "metadata": {},
   "outputs": [
    {
     "data": {
      "text/plain": [
       "<function Cursor.commit>"
      ]
     },
     "execution_count": 19,
     "metadata": {},
     "output_type": "execute_result"
    }
   ],
   "source": [
    "columns = [\n",
    "    'trail_id INT',\n",
    "    'trail_feature_id INT',\n",
    "\n",
    "    'CONSTRAINT pk_trail_features PRIMARY KEY (trail_id, trail_feature_id)',\n",
    "    'CONSTRAINT fk_trail_id FOREIGN KEY (trail_id) REFERENCES CW2.trails(trail_id)',\n",
    "    'CONSTRAINT fk_trail_feature_id FOREIGN KEY (trail_feature_id) REFERENCES CW2.features(trail_feature_id)'\n",
    "]\n",
    "\n",
    "create_table_cmd = f\"CREATE TABLE CW2.trail_features ({','.join(columns)})\"\n",
    "cursor.execute(create_table_cmd)\n",
    "cursor.commit"
   ]
  },
  {
   "cell_type": "code",
   "execution_count": 20,
   "metadata": {},
   "outputs": [
    {
     "data": {
      "text/plain": [
       "<function Cursor.commit>"
      ]
     },
     "execution_count": 20,
     "metadata": {},
     "output_type": "execute_result"
    }
   ],
   "source": [
    "trail_features = [\n",
    "    \"'1', '1'\",\n",
    "    \"'2', '2'\",\n",
    "    \"'3', '3'\"\n",
    "]\n",
    "for the_data in trail_features:\n",
    "    insert_cmd = f\"INSERT INTO CW2.trail_features VALUES ({the_data})\"\n",
    "    cursor.execute(insert_cmd)\n",
    "\n",
    "cursor.commit"
   ]
  },
  {
   "cell_type": "code",
   "execution_count": 20,
   "metadata": {},
   "outputs": [
    {
     "data": {
      "text/plain": [
       "<function Cursor.commit>"
      ]
     },
     "execution_count": 20,
     "metadata": {},
     "output_type": "execute_result"
    }
   ],
   "source": [
    "drop_table_cmd = f\"DROP TABLE CW2.trail_features\"\n",
    "cursor.execute(drop_table_cmd)\n",
    "cursor.commit"
   ]
  },
  {
   "cell_type": "code",
   "execution_count": 21,
   "metadata": {},
   "outputs": [
    {
     "name": "stdout",
     "output_type": "stream",
     "text": [
      "(1, 1)\n",
      "(2, 2)\n",
      "(3, 3)\n"
     ]
    }
   ],
   "source": [
    "cursor.execute(\"SELECT * FROM CW2.trail_features\")\n",
    "\n",
    "trail_feats = cursor.fetchall()\n",
    "for trail_feat in trail_feats:\n",
    "    print (trail_feat)"
   ]
  }
 ],
 "metadata": {
  "kernelspec": {
   "display_name": "Python 3",
   "language": "python",
   "name": "python3"
  },
  "language_info": {
   "codemirror_mode": {
    "name": "ipython",
    "version": 3
   },
   "file_extension": ".py",
   "mimetype": "text/x-python",
   "name": "python",
   "nbconvert_exporter": "python",
   "pygments_lexer": "ipython3",
   "version": "3.10.11"
  }
 },
 "nbformat": 4,
 "nbformat_minor": 2
}
