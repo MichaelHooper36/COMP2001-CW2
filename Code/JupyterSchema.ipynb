{
 "cells": [
  {
   "cell_type": "code",
   "execution_count": 2,
   "metadata": {},
   "outputs": [],
   "source": [
    "import pyodbc"
   ]
  },
  {
   "cell_type": "code",
   "execution_count": 3,
   "metadata": {},
   "outputs": [],
   "source": [
    "server = 'dist-6-505.uopnet.plymouth.ac.uk'\n",
    "database = 'COMP2001_MHooper'\n",
    "username = 'MHooper'\n",
    "password = 'PlymLogin72'\n",
    "driver = '{ODBC Driver 17 for SQL Server}'\n",
    "\n",
    "conn_str = (\n",
    "    f'DRIVER={driver};'\n",
    "    f'SERVER={server};'\n",
    "    f'DATABASE={database};'\n",
    "    f'UID={username};'\n",
    "    f'PWD={password};'\n",
    "    'Encrypt=Yes;'\n",
    "    'TrustServerCertificate=Yes;'\n",
    "    'Connection Timeout=30;'\n",
    "    'Trusted_Connection=No'\n",
    ")\n",
    "conn = pyodbc.connect(conn_str)\n",
    "cursor = conn.cursor()"
   ]
  },
  {
   "cell_type": "code",
   "execution_count": 24,
   "metadata": {},
   "outputs": [
    {
     "ename": "ProgrammingError",
     "evalue": "('42S01', \"[42S01] [Microsoft][ODBC Driver 17 for SQL Server][SQL Server]There is already an object named 'CW2' in the database. (2714) (SQLExecDirectW); [42S01] [Microsoft][ODBC Driver 17 for SQL Server][SQL Server]CREATE SCHEMA failed due to previous errors. (2759)\")",
     "output_type": "error",
     "traceback": [
      "\u001b[1;31m---------------------------------------------------------------------------\u001b[0m",
      "\u001b[1;31mProgrammingError\u001b[0m                          Traceback (most recent call last)",
      "Cell \u001b[1;32mIn[24], line 2\u001b[0m\n\u001b[0;32m      1\u001b[0m create_schema \u001b[38;5;241m=\u001b[39m \u001b[38;5;124mf\u001b[39m\u001b[38;5;124m\"\u001b[39m\u001b[38;5;124mCREATE SCHEMA CW2\u001b[39m\u001b[38;5;124m\"\u001b[39m\n\u001b[1;32m----> 2\u001b[0m \u001b[43mcursor\u001b[49m\u001b[38;5;241;43m.\u001b[39;49m\u001b[43mexecute\u001b[49m\u001b[43m(\u001b[49m\u001b[43mcreate_schema\u001b[49m\u001b[43m)\u001b[49m\n\u001b[0;32m      3\u001b[0m cursor\u001b[38;5;241m.\u001b[39mcommit()\n",
      "\u001b[1;31mProgrammingError\u001b[0m: ('42S01', \"[42S01] [Microsoft][ODBC Driver 17 for SQL Server][SQL Server]There is already an object named 'CW2' in the database. (2714) (SQLExecDirectW); [42S01] [Microsoft][ODBC Driver 17 for SQL Server][SQL Server]CREATE SCHEMA failed due to previous errors. (2759)\")"
     ]
    }
   ],
   "source": [
    "create_schema = f\"CREATE SCHEMA CW2\"\n",
    "cursor.execute(create_schema)\n",
    "cursor.commit()"
   ]
  },
  {
   "cell_type": "code",
   "execution_count": 23,
   "metadata": {},
   "outputs": [],
   "source": [
    "columns = [\n",
    "    'user_id INT IDENTITY(1,1) PRIMARY KEY',\n",
    "    'username VARCHAR(63)',\n",
    "    'email VARCHAR(63)',\n",
    "    'password VARCHAR(63)',\n",
    "    'role VARCHAR(5)'\n",
    "]\n",
    "\n",
    "create_table_cmd = f\"CREATE TABLE CW2.users ({','.join(columns)})\"\n",
    "cursor.execute(create_table_cmd)\n",
    "cursor.commit ()"
   ]
  },
  {
   "cell_type": "code",
   "execution_count": 24,
   "metadata": {},
   "outputs": [],
   "source": [
    "users = [\n",
    "    \"'Grace Hopper', 'grace@plymouth.ac.uk', 'ISAD123!', 'user'\",\n",
    "    \"'Tim Berners-Lee', 'tim@plymouth.ac.uk', 'COMP2001!', 'user'\",\n",
    "    \"'Ada Lovelace', 'ada@plymouth.ac.uk', 'insecurePassword', 'user'\",\n",
    "]\n",
    "\n",
    "for user_data in users:\n",
    "    insert_cmd = f\"INSERT INTO CW2.users VALUES ({user_data})\"\n",
    "    cursor.execute(insert_cmd)\n",
    "\n",
    "cursor.commit()"
   ]
  },
  {
   "cell_type": "code",
   "execution_count": 22,
   "metadata": {},
   "outputs": [],
   "source": [
    "drop_table_cmd = f\"DROP TABLE CW2.users\"\n",
    "cursor.execute(drop_table_cmd)\n",
    "cursor.commit()"
   ]
  },
  {
   "cell_type": "code",
   "execution_count": 25,
   "metadata": {},
   "outputs": [
    {
     "name": "stdout",
     "output_type": "stream",
     "text": [
      "(1, 'Grace Hopper', 'grace@plymouth.ac.uk', 'ISAD123!', 'user')\n",
      "(2, 'Tim Berners-Lee', 'tim@plymouth.ac.uk', 'COMP2001!', 'user')\n",
      "(3, 'Ada Lovelace', 'ada@plymouth.ac.uk', 'insecurePassword', 'user')\n"
     ]
    }
   ],
   "source": [
    "cursor.execute(\"SELECT * FROM CW2.users\")\n",
    "\n",
    "users = cursor.fetchall()\n",
    "for user in users:\n",
    "    print (user)"
   ]
  },
  {
   "cell_type": "code",
   "execution_count": null,
   "metadata": {},
   "outputs": [],
   "source": [
    "columns = [\n",
    "    'location_id INT IDENTITY(1,1) PRIMARY KEY',\n",
    "    'longitude FLOAT',\n",
    "    'latitude FLOAT',\n",
    "    'description VARCHAR(500)',\n",
    "\n",
    "    'CHECK (longitude BETWEEN -180 AND 180)',\n",
    "    'CHECK (latitude BETWEEN -90 AND 90)',\n",
    "    'CHECK (LEN(description) > 10)'\n",
    "]\n",
    "\n",
    "create_table_cmd = f\"CREATE TABLE CW2.location_point ({','.join(columns)})\"\n",
    "cursor.execute(create_table_cmd)\n",
    "cursor.commit()"
   ]
  },
  {
   "cell_type": "code",
   "execution_count": 23,
   "metadata": {},
   "outputs": [],
   "source": [
    "locations = [\n",
    "    \"'0.0', '0.0', 'This is Null Island'\",\n",
    "    \"'-0.12', '51.51', 'This is London'\",\n",
    "    \"'151.2153', '-33.8568', 'This is the Sydney Opera House'\"\n",
    "]\n",
    "\n",
    "for location_data in locations:\n",
    "    insert_cmd = f\"INSERT INTO CW2.location_point VALUES ({location_data})\"\n",
    "    cursor.execute(insert_cmd)\n",
    "\n",
    "cursor.commit()"
   ]
  },
  {
   "cell_type": "code",
   "execution_count": 8,
   "metadata": {},
   "outputs": [],
   "source": [
    "drop_table_cmd = f\"DROP TABLE CW2.location_point\"\n",
    "cursor.execute(drop_table_cmd)\n",
    "cursor.commit()"
   ]
  },
  {
   "cell_type": "code",
   "execution_count": null,
   "metadata": {},
   "outputs": [],
   "source": [
    "cursor.execute(\"SELECT * FROM CW2.location_point\")\n",
    "\n",
    "locations = cursor.fetchall()\n",
    "for location in locations:\n",
    "    print (location)"
   ]
  },
  {
   "cell_type": "code",
   "execution_count": 25,
   "metadata": {},
   "outputs": [],
   "source": [
    "columns = [\n",
    "    'trail_feature_id INT IDENTITY(1,1) PRIMARY KEY',\n",
    "    'trail_feature VARCHAR(31) UNIQUE'\n",
    "]\n",
    "\n",
    "create_table_cmd = f\"CREATE TABLE CW2.features ({','.join(columns)})\"\n",
    "cursor.execute(create_table_cmd)\n",
    "cursor.commit()"
   ]
  },
  {
   "cell_type": "code",
   "execution_count": 26,
   "metadata": {},
   "outputs": [],
   "source": [
    "features = [\n",
    "    \"'Bird watching'\",\n",
    "    \"'Hiking'\",\n",
    "    \"'Running'\"\n",
    "]\n",
    "\n",
    "for feature_data in features:\n",
    "    insert_cmd = f\"INSERT INTO CW2.features VALUES ({feature_data})\"\n",
    "    cursor.execute(insert_cmd)\n",
    "    \n",
    "cursor.commit()"
   ]
  },
  {
   "cell_type": "code",
   "execution_count": 27,
   "metadata": {},
   "outputs": [
    {
     "name": "stdout",
     "output_type": "stream",
     "text": [
      "(1, 'Bird watching')\n",
      "(2, 'Hiking')\n",
      "(3, 'Running')\n"
     ]
    }
   ],
   "source": [
    "cursor.execute(\"SELECT * FROM CW2.features\")\n",
    "\n",
    "features = cursor.fetchall()\n",
    "for feature in features:\n",
    "    print (feature)"
   ]
  }
 ],
 "metadata": {
  "kernelspec": {
   "display_name": "Python 3",
   "language": "python",
   "name": "python3"
  },
  "language_info": {
   "codemirror_mode": {
    "name": "ipython",
    "version": 3
   },
   "file_extension": ".py",
   "mimetype": "text/x-python",
   "name": "python",
   "nbconvert_exporter": "python",
   "pygments_lexer": "ipython3",
   "version": "3.10.11"
  }
 },
 "nbformat": 4,
 "nbformat_minor": 2
}
