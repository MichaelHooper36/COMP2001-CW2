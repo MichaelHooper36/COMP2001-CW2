{
 "cells": [
  {
   "cell_type": "code",
   "execution_count": 2,
   "metadata": {},
   "outputs": [],
   "source": [
    "import pyodbc\n",
    "\n",
    "server = 'dist-6-505.uopnet.plymouth.ac.uk'\n",
    "database = 'COMP2001_mhooper4'\n",
    "username = 'mhooper4'\n",
    "password = 'PlymLogin16'\n",
    "driver = '{ODBC Driver 17 for SQL Server}'\n",
    "\n",
    "conn_str = (\n",
    "    f'DRIVER={driver};'\n",
    "    f'SERVER={server};'\n",
    "    f'DATABASE={database};'\n",
    "    f'UID={username};'\n",
    "    f'PWD={password};'\n",
    "    'Encrypt=Yes;'\n",
    "    'TrustServerCertificate=Yes;'\n",
    "    'Connection Timeout=30;'\n",
    "    'Trusted_Connection=No'\n",
    ")\n",
    "conn = pyodbc.connect(conn_str)\n",
    "cursor = conn.cursor()"
   ]
  },
  {
   "cell_type": "code",
   "execution_count": null,
   "metadata": {},
   "outputs": [],
   "source": [
    "cursor.execute('''CREATE SCHEMA CW2''')\n",
    "conn.commit()"
   ]
  },
  {
   "cell_type": "code",
   "execution_count": 15,
   "metadata": {},
   "outputs": [],
   "source": [
    "cursor.execute('''\n",
    "CREATE TABLE CW2.users (\n",
    "    user_id INT IDENTITY(1,1) PRIMARY KEY,\n",
    "    username VARCHAR(63) UNIQUE,\n",
    "    email VARCHAR(63) UNIQUE,\n",
    "    password VARCHAR(63),\n",
    "    role VARCHAR(5),\n",
    "\n",
    "    CHECK (lower(role) = 'user' OR lower(role) = 'admin'),\n",
    "    CHECK (email LIKE '%_@_%.__%')\n",
    ")\n",
    "''')\n",
    "conn.commit()"
   ]
  },
  {
   "cell_type": "code",
   "execution_count": 20,
   "metadata": {},
   "outputs": [],
   "source": [
    "cursor.execute('''\n",
    "INSERT INTO CW2.users VALUES\n",
    "    ('Grace Hopper', 'grace@plymouth.ac.uk', 'ISAD123!', 'user'),\n",
    "    ('Tim Berners-Lee', 'tim@plymouth.ac.uk', 'COMP2001!', 'user'),\n",
    "    ('Ada Lovelace', 'ada@plymouth.ac.uk', 'insecurePassword', 'admin')\n",
    "    \n",
    "''')\n",
    "conn.commit()"
   ]
  },
  {
   "cell_type": "code",
   "execution_count": 13,
   "metadata": {},
   "outputs": [],
   "source": [
    "drop_table_cmd = f\"DROP TABLE CW2.users\"\n",
    "cursor.execute(drop_table_cmd)\n",
    "cursor.commit()"
   ]
  },
  {
   "cell_type": "code",
   "execution_count": 24,
   "metadata": {},
   "outputs": [
    {
     "name": "stdout",
     "output_type": "stream",
     "text": [
      "(1, 'Grace Hopper', 'grace@plymouth.ac.uk', 'ISAD123!', 'user')\n",
      "(2, 'Tim Berners-Lee', 'tim@plymouth.ac.uk', 'COMP2001!', 'user')\n",
      "(3, 'Ada Lovelace', 'ada@plymouth.ac.uk', 'insecurePassword', 'admin')\n"
     ]
    }
   ],
   "source": [
    "cursor.execute(\"SELECT * FROM CW2.users\")\n",
    "\n",
    "users = cursor.fetchall()\n",
    "for user in users:\n",
    "    print (user)"
   ]
  },
  {
   "cell_type": "code",
   "execution_count": 31,
   "metadata": {},
   "outputs": [],
   "source": [
    "cursor.execute('''\n",
    "CREATE TABLE CW2.location_point (\n",
    "    location_id INT IDENTITY(1,1) PRIMARY KEY,\n",
    "    longitude FLOAT,\n",
    "    latitude FLOAT,\n",
    "    description VARCHAR(500),\n",
    "\n",
    "    CHECK (longitude BETWEEN -180 AND 180),\n",
    "    CHECK (latitude BETWEEN -90 AND 90),\n",
    "    CHECK (LEN(description) > 10)\n",
    ")\n",
    "''')\n",
    "conn.commit()"
   ]
  },
  {
   "cell_type": "code",
   "execution_count": 32,
   "metadata": {},
   "outputs": [],
   "source": [
    "cursor.execute('''\n",
    "INSERT INTO CW2.location_point VALUES\n",
    "    ('0.0', '0.0', 'This is Null Island'),\n",
    "    ('-0.12', '51.51', 'This is London'),\n",
    "    ('151.2153', '-33.8568', 'This is the Sydney Opera House')\n",
    "''')\n",
    "conn.commit()"
   ]
  },
  {
   "cell_type": "code",
   "execution_count": 30,
   "metadata": {},
   "outputs": [],
   "source": [
    "drop_table_cmd = f\"DROP TABLE CW2.location_point\"\n",
    "cursor.execute(drop_table_cmd)\n",
    "cursor.commit()"
   ]
  },
  {
   "cell_type": "code",
   "execution_count": 33,
   "metadata": {},
   "outputs": [
    {
     "name": "stdout",
     "output_type": "stream",
     "text": [
      "(1, 0.0, 0.0, 'This is Null Island')\n",
      "(2, -0.12, 51.51, 'This is London')\n",
      "(3, 151.2153, -33.8568, 'This is the Sydney Opera House')\n"
     ]
    }
   ],
   "source": [
    "cursor.execute(\"SELECT * FROM CW2.location_point\")\n",
    "\n",
    "locations = cursor.fetchall()\n",
    "for location in locations:\n",
    "    print (location)"
   ]
  },
  {
   "cell_type": "code",
   "execution_count": 35,
   "metadata": {},
   "outputs": [],
   "source": [
    "cursor.execute('''\n",
    "CREATE TABLE CW2.features (\n",
    "    trail_feature_id INT IDENTITY(1,1) PRIMARY KEY,\n",
    "    trail_feature VARCHAR(31) UNIQUE\n",
    ")\n",
    "''')\n",
    "conn.commit()"
   ]
  },
  {
   "cell_type": "code",
   "execution_count": 36,
   "metadata": {},
   "outputs": [],
   "source": [
    "cursor.execute('''\n",
    "INSERT INTO CW2.features VALUES\n",
    "    ('Bird watching'),\n",
    "    ('Hiking'),\n",
    "    ('Running')\n",
    "''')\n",
    "conn.commit()"
   ]
  },
  {
   "cell_type": "code",
   "execution_count": 37,
   "metadata": {},
   "outputs": [
    {
     "name": "stdout",
     "output_type": "stream",
     "text": [
      "(1, 'Bird watching')\n",
      "(2, 'Hiking')\n",
      "(3, 'Running')\n"
     ]
    }
   ],
   "source": [
    "cursor.execute(\"SELECT * FROM CW2.features\")\n",
    "\n",
    "features = cursor.fetchall()\n",
    "for feature in features:\n",
    "    print (feature)"
   ]
  },
  {
   "cell_type": "code",
   "execution_count": 34,
   "metadata": {},
   "outputs": [],
   "source": [
    "drop_table_cmd = f\"DROP TABLE CW2.features\"\n",
    "cursor.execute(drop_table_cmd)\n",
    "cursor.commit()"
   ]
  },
  {
   "cell_type": "code",
   "execution_count": 38,
   "metadata": {},
   "outputs": [],
   "source": [
    "cursor.execute('''\n",
    "CREATE TABLE CW2.trails(\n",
    "    trail_id INT IDENTITY(1,1) PRIMARY KEY,\n",
    "    trail_name VARCHAR(127),\n",
    "    trail_summary VARCHAR(500),\n",
    "    trail_description VARCHAR(500),\n",
    "    difficulty VARCHAR(8),\n",
    "    location VARCHAR(63),\n",
    "    length FLOAT,\n",
    "    elevation_gain INT,\n",
    "    route_type VARCHAR(15),\n",
    "\n",
    "    owner_id INT,\n",
    "    location_point_1 INT,\n",
    "    location_point_2 INT,\n",
    "    location_point_3 INT,\n",
    "    location_point_4 INT,\n",
    "    location_point_5 INT,\n",
    "\n",
    "    CHECK (difficulty = ('easy') OR difficulty = ('moderate') OR difficulty = ('hard')),\n",
    "    CHECK (length >= 0 AND length = ROUND(length, 2)),\n",
    "    CHECK (elevation_gain >=0),\n",
    "    CHECK (route_type = ('loop') OR route_type = ('point to point') OR route_type = ('out and back')),\n",
    "\n",
    "    CONSTRAINT fk_owner_id FOREIGN KEY (owner_id) REFERENCES CW2.users(user_id),\n",
    "    CONSTRAINT fk_location_1 FOREIGN KEY (location_point_1) REFERENCES CW2.location_point(location_id),\n",
    "    CONSTRAINT fk_location_2 FOREIGN KEY (location_point_2) REFERENCES CW2.location_point(location_id),\n",
    "    CONSTRAINT fk_location_3 FOREIGN KEY (location_point_3) REFERENCES CW2.location_point(location_id),\n",
    "    CONSTRAINT fk_location_4 FOREIGN KEY (location_point_4) REFERENCES CW2.location_point(location_id),\n",
    "    CONSTRAINT fk_location_5 FOREIGN KEY (location_point_5) REFERENCES CW2.location_point(location_id))\n",
    "''')\n",
    "\n",
    "conn.commit()"
   ]
  },
  {
   "cell_type": "code",
   "execution_count": 39,
   "metadata": {},
   "outputs": [],
   "source": [
    "cursor.execute('''\n",
    "INSERT INTO CW2.trails VALUES\n",
    "    ('Plymbridge Circular', 'discover this loop...', 'this is a gentle...', 'easy', 'Plymouth, Devon, England', '5.0', '147', 'loop', '3', '1', '2', '1', '2', '3'),\n",
    "    ('Crazywell Pool', 'enjoy this 6.3km...', 'this trail starts near...', 'moderate', 'Dartmoor, Devon, England', '6.3', '177', 'loop', '3', '3', '2', '3', '2', '1'),\n",
    "    ('Crater Cove Lookout', 'try this 3.1km...', 'this is a short but...', 'moderate', 'Sydney Harbour, New South Wales, Australia', '3.1', '93', 'out and back', '3', '1', '2', '3', '2', '1')\n",
    "\n",
    "''')\n",
    "conn.commit()"
   ]
  },
  {
   "cell_type": "code",
   "execution_count": 40,
   "metadata": {},
   "outputs": [
    {
     "name": "stdout",
     "output_type": "stream",
     "text": [
      "(1, 'Plymbridge Circular', 'discover this loop...', 'this is a gentle...', 'easy', 'Plymouth, Devon, England', 5.0, 147, 'loop', 3, 1, 2, 1, 2, 3)\n",
      "(2, 'Crazywell Pool', 'enjoy this 6.3km...', 'this trail starts near...', 'moderate', 'Dartmoor, Devon, England', 6.3, 177, 'loop', 3, 3, 2, 3, 2, 1)\n",
      "(3, 'Crater Cove Lookout', 'try this 3.1km...', 'this is a short but...', 'moderate', 'Sydney Harbour, New South Wales, Australia', 3.1, 93, 'out and back', 3, 1, 2, 3, 2, 1)\n"
     ]
    }
   ],
   "source": [
    "cursor.execute(\"SELECT * FROM CW2.trails\")\n",
    "\n",
    "trails = cursor.fetchall()\n",
    "for trail in trails:\n",
    "    print (trail)"
   ]
  },
  {
   "cell_type": "code",
   "execution_count": null,
   "metadata": {},
   "outputs": [],
   "source": [
    "drop_table_cmd = f\"DROP TABLE CW2.trails\"\n",
    "cursor.execute(drop_table_cmd)\n",
    "cursor.commit"
   ]
  },
  {
   "cell_type": "code",
   "execution_count": 45,
   "metadata": {},
   "outputs": [],
   "source": [
    "cursor.execute('''\n",
    "CREATE TABLE CW2.trail_features (\n",
    "    trail_id INT,\n",
    "    trail_feature_id INT,\n",
    "\n",
    "    CONSTRAINT pk_trail_features PRIMARY KEY (trail_id, trail_feature_id),\n",
    "    CONSTRAINT fk_trail_id FOREIGN KEY (trail_id) REFERENCES CW2.trails(trail_id),\n",
    "    CONSTRAINT fk_trail_feature_id FOREIGN KEY (trail_feature_id) REFERENCES CW2.features(trail_feature_id)\n",
    ")\n",
    "''')\n",
    "conn.commit()"
   ]
  },
  {
   "cell_type": "code",
   "execution_count": 46,
   "metadata": {},
   "outputs": [],
   "source": [
    "cursor.execute('''\n",
    "INSERT INTO CW2.trail_features VALUES\n",
    "    ('1', '1'),\n",
    "    ('2', '2'),\n",
    "    ('3', '3')\n",
    "''')\n",
    "conn.commit()"
   ]
  },
  {
   "cell_type": "code",
   "execution_count": 44,
   "metadata": {},
   "outputs": [
    {
     "data": {
      "text/plain": [
       "<function Cursor.commit>"
      ]
     },
     "execution_count": 44,
     "metadata": {},
     "output_type": "execute_result"
    }
   ],
   "source": [
    "drop_table_cmd = f\"DROP TABLE CW2.trail_features\"\n",
    "cursor.execute(drop_table_cmd)\n",
    "cursor.commit"
   ]
  },
  {
   "cell_type": "code",
   "execution_count": 3,
   "metadata": {},
   "outputs": [
    {
     "name": "stdout",
     "output_type": "stream",
     "text": [
      "(1, 1)\n",
      "(2, 2)\n",
      "(3, 3)\n"
     ]
    }
   ],
   "source": [
    "cursor.execute(\"SELECT * FROM CW2.trail_features\")\n",
    "\n",
    "trail_feats = cursor.fetchall()\n",
    "for trail_feat in trail_feats:\n",
    "    print (trail_feat)"
   ]
  },
  {
   "cell_type": "code",
   "execution_count": 3,
   "metadata": {},
   "outputs": [],
   "source": [
    "cursor.execute('''\n",
    "CREATE PROCEDURE CW2.create_trail(@trail_name VARCHAR(127), @trail_summary VARCHAR(500), @trail_description VARCHAR(500),\n",
    "    @difficulty VARCHAR(8), @location VARCHAR(63), @length FLOAT, @elevation_gain INT, @route_type VARCHAR(15), @owner_id INT,\n",
    "    @location_point_1 INT, @location_point_2 INT, @location_point_3 INT, @location_point_4 INT, @location_point_5 INT)\n",
    "AS\n",
    "BEGIN\n",
    "    INSERT INTO CW2.trails VALUES (@trail_name, @trail_summary, @trail_description, @difficulty, @location, @length, @elevation_gain,\n",
    "    @route_type, @owner_id, @location_point_1, @location_point_2, @location_point_3, @location_point_4, @location_point_5)\n",
    "END\n",
    "''')\n",
    "conn.commit()"
   ]
  },
  {
   "cell_type": "code",
   "execution_count": 4,
   "metadata": {},
   "outputs": [],
   "source": [
    "cursor.execute('''\n",
    "CREATE PROCEDURE CW2.create_user(@username VARCHAR(63), @email VARCHAR(63), @password VARCHAR(63), @role VARCHAR(5))\n",
    "AS\n",
    "BEGIN\n",
    "    INSERT INTO CW2.users VALUES (@username, @email, @password, @role)\n",
    "END\n",
    "''')\n",
    "conn.commit()"
   ]
  },
  {
   "cell_type": "code",
   "execution_count": null,
   "metadata": {},
   "outputs": [],
   "source": [
    "cursor.execute('''\n",
    "CREATE PROCEDURE CW2.create_location_point(@longitude FLOAT, @latitude FLOAT, @description VARCHAR(500))\n",
    "AS\n",
    "BEGIN\n",
    "    INSERT INTO CW2.location_point VALUES (@longitude, @latitude, @description)\n",
    "END\n",
    "''')\n",
    "conn.commit()"
   ]
  },
  {
   "cell_type": "code",
   "execution_count": 6,
   "metadata": {},
   "outputs": [],
   "source": [
    "cursor.execute('''\n",
    "CREATE PROCEDURE CW2.create_feature(@trail_feature VARCHAR(31))\n",
    "AS\n",
    "BEGIN\n",
    "    INSERT INTO CW2.features VALUES (@trail_feature)\n",
    "END\n",
    "''')\n",
    "conn.commit()"
   ]
  },
  {
   "cell_type": "code",
   "execution_count": 7,
   "metadata": {},
   "outputs": [],
   "source": [
    "cursor.execute('''\n",
    "CREATE PROCEDURE CW2.create_trail_feature(@trail_id INT, @trail_feature_id INT)\n",
    "AS\n",
    "BEGIN\n",
    "    INSERT INTO CW2.trail_features VALUES (@trail_id, @trail_feature_id)\n",
    "END\n",
    "''')\n",
    "conn.commit()"
   ]
  },
  {
   "cell_type": "code",
   "execution_count": 12,
   "metadata": {},
   "outputs": [],
   "source": [
    "cursor.execute('''\n",
    "CREATE VIEW CW2.trail_info AS\n",
    "SELECT trails.trail_id, trail_name, trail_summary, trail_description, difficulty, location, length, elevation_gain, route_type, owner_id, location_point_1, location_point_2, location_point_3, location_point_4, location_point_5, trail_feature, features.trail_feature_id, username, email, password, role, longitude, latitude, description\n",
    "FROM CW2.trails\n",
    "JOIN CW2.trail_features ON CW2.trails.trail_id = CW2.trail_features.trail_id\n",
    "JOIN CW2.users ON CW2.trails.owner_id = CW2.users.user_id\n",
    "JOIN CW2.location_point ON CW2.trails.location_point_1 = CW2.location_point.location_id\n",
    "JOIN CW2.features ON CW2.trail_features.trail_feature_id = CW2.features.trail_feature_id\n",
    "''')\n",
    "conn.commit()"
   ]
  },
  {
   "cell_type": "code",
   "execution_count": 16,
   "metadata": {},
   "outputs": [
    {
     "name": "stdout",
     "output_type": "stream",
     "text": [
      "(1, 'Plymbridge Circular', 'discover this loop...', 'this is a gentle...', 'easy', 'Plymouth, Devon, England', 5.0, 147, 'loop', 3, 1, 2, 1, 2, 3, 'Bird watching', 1, 'Ada Lovelace', 'ada@plymouth.ac.uk', 'insecurePassword', 'admin', 0.0, 0.0, 'This is Null Island')\n",
      "(2, 'Crazywell Pool', 'enjoy this 6.3km...', 'this trail starts near...', 'moderate', 'Dartmoor, Devon, England', 6.3, 177, 'loop', 3, 3, 2, 3, 2, 1, 'Hiking', 2, 'Ada Lovelace', 'ada@plymouth.ac.uk', 'insecurePassword', 'admin', 151.2153, -33.8568, 'This is the Sydney Opera House')\n",
      "(3, 'Crater Cove Lookout', 'try this 3.1km...', 'this is a short but...', 'moderate', 'Sydney Harbour, New South Wales, Australia', 3.1, 93, 'out and back', 3, 1, 2, 3, 2, 1, 'Running', 3, 'Ada Lovelace', 'ada@plymouth.ac.uk', 'insecurePassword', 'admin', 0.0, 0.0, 'This is Null Island')\n"
     ]
    }
   ],
   "source": [
    "cursor.execute('''\n",
    "select * from CW2.trail_info\n",
    "''')\n",
    "trail_info = cursor.fetchall()\n",
    "for trail in trail_info:\n",
    "    print (trail)"
   ]
  }
 ],
 "metadata": {
  "kernelspec": {
   "display_name": "Python 3",
   "language": "python",
   "name": "python3"
  },
  "language_info": {
   "codemirror_mode": {
    "name": "ipython",
    "version": 3
   },
   "file_extension": ".py",
   "mimetype": "text/x-python",
   "name": "python",
   "nbconvert_exporter": "python",
   "pygments_lexer": "ipython3",
   "version": "3.10.11"
  }
 },
 "nbformat": 4,
 "nbformat_minor": 2
}
